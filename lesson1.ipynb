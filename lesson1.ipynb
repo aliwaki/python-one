{
  "nbformat": 4,
  "nbformat_minor": 0,
  "metadata": {
    "colab": {
      "provenance": []
    },
    "kernelspec": {
      "name": "python3",
      "display_name": "Python 3"
    },
    "language_info": {
      "name": "python"
    }
  },
  "cells": [
    {
      "cell_type": "code",
      "execution_count": null,
      "metadata": {
        "colab": {
          "base_uri": "https://localhost:8080/"
        },
        "id": "A2XW-FPbfL4F",
        "outputId": "d391dcdd-fc1e-46a8-a90e-7a54cc65b51d"
      },
      "outputs": [
        {
          "output_type": "stream",
          "name": "stdout",
          "text": [
            "hello world\n"
          ]
        }
      ],
      "source": [
        "print(\"hello world\")"
      ]
    },
    {
      "cell_type": "code",
      "source": [
        "startCoding =\"9/6/2025\""
      ],
      "metadata": {
        "id": "sdIZR95BYMm8"
      },
      "execution_count": null,
      "outputs": []
    },
    {
      "cell_type": "code",
      "source": [
        "from typing_extensions import Type\n",
        "#Snake Case Variables\n",
        "\n",
        "start_coding_with_alice = \"9/6/2025\"\n",
        "\n",
        "#Pascal Case Variables\n",
        "\n",
        "StartCodingWithAlice = \"9/6/2025\"\n",
        "\n",
        "#Built-in Data Types\n",
        "\n",
        "#Text type: str\n",
        "\n",
        "#Numeric types: int, float, complex\n",
        "#Sequence Types: list, tuple, range\n",
        "#Set Types: set, frozen\n",
        "#Boolean Type: bool\n",
        "#Binary Type: bytes, bytearray, memoryview\n",
        "#None Type:None type\n",
        "#Mapping Type: dictionary key"
      ],
      "metadata": {
        "id": "EO8_HnS0YZtr"
      },
      "execution_count": null,
      "outputs": []
    },
    {
      "cell_type": "code",
      "source": [
        "x = 5\n",
        "print(type(x))"
      ],
      "metadata": {
        "colab": {
          "base_uri": "https://localhost:8080/"
        },
        "id": "21wJtSl-fKyx",
        "outputId": "f522af61-507c-41ae-a0b8-a9bf11a89f4f"
      },
      "execution_count": null,
      "outputs": [
        {
          "output_type": "stream",
          "name": "stdout",
          "text": [
            "<class 'int'>\n"
          ]
        }
      ]
    },
    {
      "cell_type": "code",
      "source": [
        "x = dict(name = \"John\", age=36 )"
      ],
      "metadata": {
        "id": "zn97mOx9g1W6"
      },
      "execution_count": null,
      "outputs": []
    },
    {
      "cell_type": "code",
      "source": [
        "a = 'Hello'\n",
        "print(a)\n"
      ],
      "metadata": {
        "colab": {
          "base_uri": "https://localhost:8080/"
        },
        "id": "OlxOooRmiR3A",
        "outputId": "21b8166c-6bbe-4288-fa2c-dc5c1eb8bed5"
      },
      "execution_count": null,
      "outputs": [
        {
          "output_type": "stream",
          "name": "stdout",
          "text": [
            "Hello\n"
          ]
        }
      ]
    },
    {
      "cell_type": "code",
      "source": [
        "greeting = \"Hello World\"\n",
        "\n",
        "print(greeting)"
      ],
      "metadata": {
        "colab": {
          "base_uri": "https://localhost:8080/"
        },
        "id": "RLvHfkbXi5X2",
        "outputId": "70e6305a-a280-4281-c8e4-959945c31090"
      },
      "execution_count": null,
      "outputs": [
        {
          "output_type": "stream",
          "name": "stdout",
          "text": [
            "Hello World\n"
          ]
        }
      ]
    },
    {
      "cell_type": "code",
      "source": [
        "sum = 12+45\n",
        "print (sum)"
      ],
      "metadata": {
        "colab": {
          "base_uri": "https://localhost:8080/"
        },
        "id": "SQP2SA7ojgsZ",
        "outputId": "06d8b8d1-5da6-4b6c-c46c-ae88f7af426b"
      },
      "execution_count": null,
      "outputs": [
        {
          "output_type": "stream",
          "name": "stdout",
          "text": [
            "57\n"
          ]
        }
      ]
    },
    {
      "cell_type": "code",
      "source": [
        "paragraph = \"\"\" At the end of it all we are going to make it in life God is in control\"\"\"\n",
        "print(paragraph)"
      ],
      "metadata": {
        "colab": {
          "base_uri": "https://localhost:8080/"
        },
        "id": "5KqxpO20jy1u",
        "outputId": "7c5e367c-7288-4ff2-c125-e201ef4c611f"
      },
      "execution_count": null,
      "outputs": [
        {
          "output_type": "stream",
          "name": "stdout",
          "text": [
            " At the end of it all we are going to make it in life God is in control\n"
          ]
        }
      ]
    },
    {
      "cell_type": "code",
      "source": [
        "paragraph =\"\"\"Lorem ipsum dolor sit amet,\n",
        "consectetur adipisc\n",
        "ing elit,\n",
        "sed do eiusmod tempor incididunt\n",
        "ut labore et dolore magna aliqua.\"\"\"\n",
        "print(paragraph)\n"
      ],
      "metadata": {
        "colab": {
          "base_uri": "https://localhost:8080/"
        },
        "id": "_70Arozmlkxn",
        "outputId": "a672d220-d337-4872-858d-9de98794d267"
      },
      "execution_count": null,
      "outputs": [
        {
          "output_type": "stream",
          "name": "stdout",
          "text": [
            "Lorem ipsum dolor sit amet,\n",
            "consectetur adipisc\n",
            "ing elit,\n",
            "sed do eiusmod tempor incididunt\n",
            "ut labore et dolore magna aliqua.\n"
          ]
        }
      ]
    },
    {
      "cell_type": "code",
      "source": [
        "fruit = \"Banana\"\n",
        "\n",
        "for x in fruit:\n",
        "    print(x)\n",
        "\n",
        "print(fruit)"
      ],
      "metadata": {
        "colab": {
          "base_uri": "https://localhost:8080/"
        },
        "id": "9CQsPLxgmRuA",
        "outputId": "46040427-be5e-4b6c-a76e-e0479472a8e5"
      },
      "execution_count": null,
      "outputs": [
        {
          "output_type": "stream",
          "name": "stdout",
          "text": [
            "B\n",
            "a\n",
            "n\n",
            "a\n",
            "n\n",
            "a\n",
            "Banana\n"
          ]
        }
      ]
    },
    {
      "cell_type": "code",
      "source": [
        "fruit = \"Banana\"\n",
        "print(len(fruit))"
      ],
      "metadata": {
        "colab": {
          "base_uri": "https://localhost:8080/"
        },
        "id": "fp-yalTfn5t-",
        "outputId": "3cb95eb2-84ec-49e3-811d-477c0945a38a"
      },
      "execution_count": null,
      "outputs": [
        {
          "output_type": "stream",
          "name": "stdout",
          "text": [
            "6\n"
          ]
        }
      ]
    },
    {
      "cell_type": "code",
      "source": [
        "b = \"Hello, World!\"\n",
        "print(b[2:5])\n",
        "\n",
        "print(b[:5])\n",
        "\n",
        "print(b[2:])\n",
        "\n",
        "print(b[-5:-2])\n",
        "print(b[:-5])"
      ],
      "metadata": {
        "colab": {
          "base_uri": "https://localhost:8080/"
        },
        "id": "Wifi8I1WpZje",
        "outputId": "b9d55fd9-f0c9-45a0-93af-dc07c257c07a"
      },
      "execution_count": null,
      "outputs": [
        {
          "output_type": "stream",
          "name": "stdout",
          "text": [
            "llo\n",
            "Hello\n",
            "llo, World!\n",
            "orl\n",
            "Hello, W\n"
          ]
        }
      ]
    },
    {
      "cell_type": "code",
      "source": [
        "a = \"Hello\"\n",
        "b = \"World\"\n",
        "Greetings = a+b\n",
        "print (Greetings)\n",
        "\n",
        "text = \"hello, and welcome to my world\"\n",
        "x = text.capitalize()\n",
        "print(x)"
      ],
      "metadata": {
        "colab": {
          "base_uri": "https://localhost:8080/"
        },
        "id": "G8W1W-inRYLu",
        "outputId": "3cc92ebb-85bf-4602-d411-4b479fc67138"
      },
      "execution_count": null,
      "outputs": [
        {
          "output_type": "stream",
          "name": "stdout",
          "text": [
            "HelloWorld\n",
            "Hello, and welcome to my world\n"
          ]
        }
      ]
    },
    {
      "cell_type": "code",
      "source": [
        "# string count\n",
        "# returns the number of times a specified value occurs in a string\n",
        "\n",
        "text = \"I love apples,apple are my favourite fruit\"\n",
        "x = text.count(\"apple\")\n",
        "print(x)"
      ],
      "metadata": {
        "colab": {
          "base_uri": "https://localhost:8080/"
        },
        "id": "2BHgLCApTIMZ",
        "outputId": "b3e90609-08b5-4f41-b1be-45ff00fe2eee"
      },
      "execution_count": null,
      "outputs": [
        {
          "output_type": "stream",
          "name": "stdout",
          "text": [
            "2\n"
          ]
        }
      ]
    },
    {
      "cell_type": "code",
      "source": [
        "print (\"hello world\")"
      ],
      "metadata": {
        "colab": {
          "base_uri": "https://localhost:8080/"
        },
        "id": "pjrObs9IWhC_",
        "outputId": "7879bb15-8c7d-4825-e53a-32a6b2414252"
      },
      "execution_count": null,
      "outputs": [
        {
          "output_type": "stream",
          "name": "stdout",
          "text": [
            "hello world\n"
          ]
        }
      ]
    },
    {
      "cell_type": "code",
      "source": [
        "x +=3\n",
        "print(x)\n",
        "\n",
        "# Comparison operators are used to compare two values:\n",
        "\n",
        "# == Equal\n",
        "# != Not equal\n",
        "# > Greater than\n",
        "# < Less than\n",
        "# >= Greater than or equal to\n",
        "# <= Less than or equal to\n",
        "\n",
        "x = 7\n",
        "x == 3"
      ],
      "metadata": {
        "colab": {
          "base_uri": "https://localhost:8080/"
        },
        "id": "PAZY8TLVZxKR",
        "outputId": "036e44ff-2e12-4f9a-ad93-fedb65ea770b"
      },
      "execution_count": null,
      "outputs": [
        {
          "output_type": "stream",
          "name": "stdout",
          "text": [
            "11\n"
          ]
        },
        {
          "output_type": "execute_result",
          "data": {
            "text/plain": [
              "False"
            ]
          },
          "metadata": {},
          "execution_count": 10
        }
      ]
    },
    {
      "cell_type": "code",
      "source": [
        "x = 3\n",
        "x == 3\n",
        "\n",
        "# Logical operators are used to combine conditional statements:\n",
        "\n",
        "# and Returns True if both statements are true\n",
        "# or Returns True if one of the statements is true\n",
        "# not Reverse the result, returns False if the result is true"
      ],
      "metadata": {
        "colab": {
          "base_uri": "https://localhost:8080/"
        },
        "id": "QDlSR1Vmalas",
        "outputId": "8167a438-437f-4ee6-9264-2fda190089a9"
      },
      "execution_count": null,
      "outputs": [
        {
          "output_type": "execute_result",
          "data": {
            "text/plain": [
              "True"
            ]
          },
          "metadata": {},
          "execution_count": 11
        }
      ]
    },
    {
      "cell_type": "code",
      "source": [
        "x = 20\n",
        "\n",
        "x = 10 < 5 and 5 < 10\n",
        "print(x)\n",
        "\n",
        "x < 5 and x < 10\n",
        "\n",
        "\n",
        "x < 5 or x > 10"
      ],
      "metadata": {
        "colab": {
          "base_uri": "https://localhost:8080/"
        },
        "id": "qEf-t3sgbWEV",
        "outputId": "d19c2943-9d25-4ba4-909c-7f16fb7a31e6"
      },
      "execution_count": null,
      "outputs": [
        {
          "output_type": "stream",
          "name": "stdout",
          "text": [
            "False\n"
          ]
        },
        {
          "output_type": "execute_result",
          "data": {
            "text/plain": [
              "True"
            ]
          },
          "metadata": {},
          "execution_count": 16
        }
      ]
    },
    {
      "cell_type": "code",
      "source": [
        " x = 1\n",
        "\n",
        " not(x < 5 and x < 10)\n",
        "\n",
        "\n",
        "#  python identinty operators are used to compare the objects, not if they are equal, but if they are actually the same object, with the same memory location:\n",
        "\n",
        "# # is Returns True if both variables are the same object\n",
        "# # is not Returns True if both variables are not the same object\n",
        "\n",
        "\n",
        "# python membership operators are used to test if a sequence is presented in an object:\n",
        "\n",
        "# in Returns True if a sequence with the specified value is present in the object\n",
        "# not in Returns True if a sequence with the specified value is not present in the object\n",
        "\n",
        "\n",
        "# bitwise operators are used to compare (binary) numbers:\n",
        "\n",
        "# &    AND    Sets each bit to 1 if both bits are 1\n",
        "# |    OR     Sets each bit to 1 if one of two bits is 1\n",
        "# ^    XOR    Sets each bit to 1 if only one of two bits is 1\n",
        "# ~    NOT    Inverts all the bits\n",
        "\n",
        "\n",
        "# operator precedence describes the order in which operations are performed.\n",
        "\n",
        "# the precedence order is described in the table below, starting with the highest precedence at the top:\n",
        "# () parantheses\n",
        "# ** Exponentiation\n",
        "# +x, -x, ~x Unary plus, unary minus, bitwise NOT\n",
        "# *, /, //, % Multiplication, division, floor division, modulus\n",
        "\n",
        "# if two operators have the same precedence, the expression is evaluated from left to right.\n",
        "\n"
      ],
      "metadata": {
        "colab": {
          "base_uri": "https://localhost:8080/"
        },
        "id": "t7GOE2mhcZ1T",
        "outputId": "ab7f8ab8-92da-49c6-bb8f-9eb27df613cd"
      },
      "execution_count": null,
      "outputs": [
        {
          "output_type": "execute_result",
          "data": {
            "text/plain": [
              "False"
            ]
          },
          "metadata": {},
          "execution_count": 18
        }
      ]
    },
    {
      "cell_type": "code",
      "source": [
        "print (5+4-7+3)"
      ],
      "metadata": {
        "colab": {
          "base_uri": "https://localhost:8080/"
        },
        "id": "_wbHSRKyhld6",
        "outputId": "42b4db13-c6a0-41ed-94a4-b8bf0d2b25c5"
      },
      "execution_count": null,
      "outputs": [
        {
          "output_type": "stream",
          "name": "stdout",
          "text": [
            "5\n"
          ]
        }
      ]
    },
    {
      "cell_type": "code",
      "source": [
        "     # LECTURE 3\n",
        "# python data structures\n",
        "\n",
        "# LISTS, TUPLES, SETS, DICTIONARIES AND ARRAYS\n",
        "\n",
        "# Lists are used to store multiple items in a single variable.\n",
        "\n",
        "# Lists are one of 4 built-in data types in Python used to store collections of data, the other 3 are Tuple, Set, and Dictionary, all with different qualities and usage.\n",
        "\n",
        "# list_name = [\"item1\", \"item2\", \"item3\"]\n",
        "\n",
        "fruits = [\"apple\", \"banana\", \"cherry\"]\n",
        "\n",
        "for x in fruits:\n",
        "    print(x)\n",
        "print(fruits)\n",
        "\n",
        "# List items are ordered, changeable, and allow duplicate values.\n",
        "\n",
        "# List items are indexed, the first item has index [0], the second item has index [1] etc."
      ],
      "metadata": {
        "colab": {
          "base_uri": "https://localhost:8080/"
        },
        "id": "xU8V1GALiC35",
        "outputId": "3ebea4e7-e512-43a5-86b7-efa40987dc95"
      },
      "execution_count": null,
      "outputs": [
        {
          "output_type": "stream",
          "name": "stdout",
          "text": [
            "apple\n",
            "banana\n",
            "cherry\n",
            "['apple', 'banana', 'cherry']\n"
          ]
        }
      ]
    },
    {
      "cell_type": "code",
      "source": [
        "cars = [\"Ford\", \"Volvo\", \"BMW\"]\n",
        "\n",
        "cars.append(\"Honda\")\n",
        "\n",
        "print(cars)"
      ],
      "metadata": {
        "colab": {
          "base_uri": "https://localhost:8080/"
        },
        "id": "3F19QsUkkUs8",
        "outputId": "efb159cf-fb44-4ea8-bbc5-4ff62959dc1b"
      },
      "execution_count": null,
      "outputs": [
        {
          "output_type": "stream",
          "name": "stdout",
          "text": [
            "['Ford', 'Volvo', 'BMW', 'Honda']\n"
          ]
        }
      ]
    },
    {
      "cell_type": "code",
      "source": [
        "cars = [\"Ford\", \"Volvo\", \"BMW\"]\n",
        "x = cars[0]\n",
        "y = cars[1]\n",
        "z = cars[2]\n",
        "print(x)\n",
        "print(y)\n",
        "print(z)\n",
        "\n",
        "# list items are ordered, mutable, and allow duplicate values\n",
        "# Lists items are indexed, the first item has index [0], the second item has index [1] etc\n",
        "\n",
        "# list length\n",
        "# to determine how many items a list has, use the len() function\n",
        "\n",
        "print(len(cars))\n",
        "\n",
        "cars[2] = \"Toyota\"\n",
        "print(cars)"
      ],
      "metadata": {
        "colab": {
          "base_uri": "https://localhost:8080/"
        },
        "id": "c9xoaHOCkevo",
        "outputId": "642e9b62-9bbd-4bab-d57a-f9e1f44c0bf9"
      },
      "execution_count": null,
      "outputs": [
        {
          "output_type": "stream",
          "name": "stdout",
          "text": [
            "Ford\n",
            "Volvo\n",
            "BMW\n",
            "3\n",
            "['Ford', 'Volvo', 'Toyota']\n"
          ]
        }
      ]
    },
    {
      "cell_type": "code",
      "source": [
        "#creating a list using a list contractor\n",
        "cars = list((\"Ford\", \"Volvo\", \"BMW\"))\n",
        "print(cars)"
      ],
      "metadata": {
        "colab": {
          "base_uri": "https://localhost:8080/"
        },
        "id": "ibXQwsdsnvBu",
        "outputId": "e25adac8-ce3d-4bce-ffd7-5d00163761a2"
      },
      "execution_count": null,
      "outputs": [
        {
          "output_type": "stream",
          "name": "stdout",
          "text": [
            "['Ford', 'Volvo', 'BMW']\n"
          ]
        }
      ]
    },
    {
      "cell_type": "code",
      "source": [
        "# DICTIONARY IN PYTHON\n",
        "\n",
        "#dictionaries are used to store data values in key: value pairs\n",
        "# a dictionary is a collection which is ordered , changeable and do not allow duplicates\n",
        "# Dictionaries are written with curly brackets, and have keys and values\n",
        "\n",
        "# create and print a dictionary\n",
        "thisdict = {\n",
        "    \"brand\": \"Ford\",\n",
        "    \"model\": \"Mustang\",\n",
        "    \"year\": 1964\n",
        "}\n",
        "print(thisdict)\n",
        "\n",
        "# syntax\n",
        " dictionary_name = {\n",
        "    \"key1\": \"value1\",\n",
        "    \"key2\": \"value2\",\n",
        "    \"key3\": \"value3\"\n",
        " }"
      ],
      "metadata": {
        "colab": {
          "base_uri": "https://localhost:8080/"
        },
        "id": "-F57A46tpOGl",
        "outputId": "bbdb486e-b686-4c0c-a21c-d3fee08118e2"
      },
      "execution_count": null,
      "outputs": [
        {
          "output_type": "stream",
          "name": "stdout",
          "text": [
            "{'brand': 'Ford', 'model': 'Mustang', 'year': 1964}\n"
          ]
        }
      ]
    },
    {
      "cell_type": "code",
      "source": [
        "CAR = dict(brand=\"Ford\", model=\"Mustang\", year=1964)\n",
        "print(CAR)\n",
        "\n",
        "# TUPPLES IN PYTHON\n",
        "# TUPLES ARE USED TO STORE MULTIPLE ITEMS IN A SINGLE VARIABLE\n",
        "thistuple = (\"apple\", \"banana\", \"cherry\")\n",
        "print(thistuple)"
      ],
      "metadata": {
        "colab": {
          "base_uri": "https://localhost:8080/"
        },
        "id": "ZPH5JYGL6n0_",
        "outputId": "860c0638-c1dc-4135-fd1c-70433d3189a7"
      },
      "execution_count": null,
      "outputs": [
        {
          "output_type": "stream",
          "name": "stdout",
          "text": [
            "{'brand': 'Ford', 'model': 'Mustang', 'year': 1964}\n",
            "('apple', 'banana', 'cherry')\n"
          ]
        }
      ]
    },
    {
      "cell_type": "code",
      "source": [
        "tuple_name = (\"item1\", \"item2\", \"item3\")\n",
        "print(tuple_name)\n",
        "#  tuple items are ordered and unchangeable. Allows duplicate values.\n"
      ],
      "metadata": {
        "id": "zSM1THyz_cxH"
      },
      "execution_count": null,
      "outputs": []
    },
    {
      "cell_type": "code",
      "source": [
        "#creatng tuple\n",
        "\n",
        "fruits = (\"apple\", \"banana\", \"cherry\")\n",
        "print(fruits)\n",
        "\n",
        "# tuple items - data types\n",
        "# tuple items can be of any data type : string, int and boolean data types\n",
        "mytuple = (\"apple\", \"banana\", \"cherry\")\n",
        "print(type(mytuple))"
      ],
      "metadata": {
        "colab": {
          "base_uri": "https://localhost:8080/"
        },
        "id": "uK8GC3NaAqOk",
        "outputId": "cbbcfc06-623e-46b3-fdea-1d171deb2a43"
      },
      "execution_count": null,
      "outputs": [
        {
          "output_type": "stream",
          "name": "stdout",
          "text": [
            "('apple', 'banana', 'cherry')\n",
            "<class 'tuple'>\n"
          ]
        }
      ]
    }
  ]
}